{
 "cells": [
  {
   "cell_type": "markdown",
   "metadata": {},
   "source": [
    "# AntiVirus Demo\n",
    "\n",
    "I will test 6 different machine learning classification algorithms to detecting before selecting the one with the highest probability of successful detections. \n",
    "\n",
    "The classifiers I will be testing will be:\n",
    "\n",
    "+ Decision Tree.\n",
    "+ Random Forest.\n",
    "+ Gradient Boosting. \n",
    "+ Adaboost.\n",
    "+ Extra Trees Classifier\n",
    "+ GNB.\n",
    "\n",
    "The algorithms will be training on a csv file dataset containing 138045 PE files. \n",
    "\n",
    "I will then test a variety of PE files to see whether the winning algorithm is successful with new data"
   ]
  },
  {
   "cell_type": "markdown",
   "metadata": {},
   "source": [
    "# Feature Extraction\n",
    "\n",
    "Machine learning only uses integers and floats as features for detection but most PE file parameters are integers which will be enough for our detection model. I used a compiled CSV file containing a list of extracted features from llSourcell  \n",
    "\n",
    "\n",
    "The list of feature extracted : \n",
    "\n",
    "Name, md5, Machine, SizeOfOptionalHeader, Characteristics, MajorLinkerVersion, MinorLinkerVersion, SizeOfCode, SizeOfInitializedData, SizeOfUninitializedData, AddressOfEntryPoint, BaseOfCode, BaseOfData, ImageBase, SectionAlignment, FileAlignment, MajorOperatingSystemVersion, MinorOperatingSystemVersion, MajorImageVersion, MinorImageVersion, MajorSubsystemVersion, MinorSubsystemVersion, SizeOfImage, SizeOfHeaders, CheckSum, Subsystem, DllCharacteristics, SizeOfStackReserve, SizeOfStackCommit, SizeOfHeapReserve, SizeOfHeapCommit, LoaderFlags, NumberOfRvaAndSizes, SectionsNb, SectionsMeanEntropy, SectionsMinEntropy, SectionsMaxEntropy, SectionsMeanRawsize, SectionsMinRawsize, SectionMaxRawsize, SectionsMeanVirtualsize, SectionsMinVirtualsize, SectionMaxVirtualsize, ImportsNbDLL, ImportsNb, ImportsNbOrdinal, ExportNb, ResourcesNb, ResourcesMeanEntropy, ResourcesMinEntropy, ResourcesMaxEntropy, ResourcesMeanSize, ResourcesMinSize, ResourcesMaxSize, LoadConfigurationSize, VersionInformationSize.\n",
    "\n",
    "\n",
    "Regarding the dataset, we need to have an important number of both legitimate and malicious file:\n",
    "\n",
    "For legitimate file, the dataset contains all the Windows binaries (exe + dll) from Windows 2008, Windows XP and Windows 7 32 and 64 bits, so exactly 41323 binaries. It is not a perfect dataset as there is only Microsoft binaries and not binaries from application which could have different properties, but  it will be enough for testing. \n",
    "    \n",
    "Regarding malware, part of Virus Share collection was used by downloading one archive (the 134th) and kept only PE files (96724 different files).\n",
    "\n"
   ]
  },
  {
   "cell_type": "markdown",
   "metadata": {},
   "source": [
    "# Feature Selection\n",
    "\n",
    "For feature selection we need to reduce the number of features to a smaller set of the most relevant, differentiating malicious binaries from legitimate. To do this we will use Pandas, Sklearn and Numpy libraries."
   ]
  },
  {
   "cell_type": "code",
   "execution_count": 2,
   "metadata": {},
   "outputs": [
    {
     "name": "stderr",
     "output_type": "stream",
     "text": [
      "C:\\Users\\andre\\AppData\\Local\\Continuum\\anaconda3\\lib\\site-packages\\sklearn\\cross_validation.py:41: DeprecationWarning: This module was deprecated in version 0.18 in favor of the model_selection module into which all the refactored classes and functions are moved. Also note that the interface of the new CV iterators are different from that of this module. This module will be removed in 0.20.\n",
      "  \"This module will be removed in 0.20.\", DeprecationWarning)\n"
     ]
    }
   ],
   "source": [
    "import pandas as pd\n",
    "import numpy as np\n",
    "import pickle\n",
    "\n",
    "import sklearn.ensemble as ske\n",
    "from sklearn import cross_validation, tree, linear_model\n",
    "from sklearn.feature_selection import SelectFromModel\n",
    "from sklearn.externals import joblib\n",
    "from sklearn.naive_bayes import GaussianNB\n",
    "from sklearn.metrics import confusion_matrix\n",
    "\n",
    "\"\"\"Import dataset and drop irrelivant x columns. Data set contains a list of of portable \n",
    "executable files labeled as legit(1) or malicious (0)\"\"\"\n",
    "\n",
    "data = pd.read_csv('data.csv', sep='|')\n",
    "legit_binaries = data[0:41323].drop(['legitimate'], axis=1)\n",
    "malicious_binaries = data[41323::].drop(['legitimate'], axis=1)\n",
    "\n"
   ]
  },
  {
   "cell_type": "markdown",
   "metadata": {},
   "source": [
    "To check manually for differences we can check the different values and see if there is a difference between the two by taking the FileAlignment parameter and check its values. "
   ]
  },
  {
   "cell_type": "code",
   "execution_count": 3,
   "metadata": {},
   "outputs": [
    {
     "data": {
      "text/plain": [
       "512      36843\n",
       "4096      4313\n",
       "128         89\n",
       "32          40\n",
       "65536       36\n",
       "16           2\n",
       "Name: FileAlignment, dtype: int64"
      ]
     },
     "execution_count": 3,
     "metadata": {},
     "output_type": "execute_result"
    }
   ],
   "source": [
    "legit_binaries['FileAlignment'].value_counts()\n"
   ]
  },
  {
   "cell_type": "code",
   "execution_count": 4,
   "metadata": {},
   "outputs": [
    {
     "data": {
      "text/plain": [
       "512     94612\n",
       "4096     2074\n",
       "128        18\n",
       "1024       15\n",
       "64          2\n",
       "32          1\n",
       "16          1\n",
       "2048        1\n",
       "Name: FileAlignment, dtype: int64"
      ]
     },
     "execution_count": 4,
     "metadata": {},
     "output_type": "execute_result"
    }
   ],
   "source": [
    "malicious_binaries['FileAlignment'].value_counts()"
   ]
  },
  {
   "cell_type": "markdown",
   "metadata": {},
   "source": [
    "There is not much difference in the values and wouldn't make a good feature to select from. However other features such as the max entropy of sections are. We can show this by visualising a histogram. "
   ]
  },
  {
   "cell_type": "code",
   "execution_count": 5,
   "metadata": {},
   "outputs": [
    {
     "name": "stderr",
     "output_type": "stream",
     "text": [
      "C:\\Users\\andre\\AppData\\Local\\Continuum\\anaconda3\\lib\\site-packages\\matplotlib\\axes\\_axes.py:6462: UserWarning: The 'normed' kwarg is deprecated, and has been replaced by the 'density' kwarg.\n",
      "  warnings.warn(\"The 'normed' kwarg is deprecated, and has been \"\n",
      "C:\\Users\\andre\\AppData\\Local\\Continuum\\anaconda3\\lib\\site-packages\\numpy\\core\\fromnumeric.py:52: FutureWarning: reshape is deprecated and will raise in a subsequent release. Please use .values.reshape(...) instead\n",
      "  return getattr(obj, method)(*args, **kwds)\n"
     ]
    },
    {
     "data": {
      "image/png": "[encoded data removed]",
      "text/plain": [
       "<Figure size 432x288 with 1 Axes>"
      ]
     },
     "metadata": {},
     "output_type": "display_data"
    }
   ],
   "source": [
    "import matplotlib.pyplot as plt\n",
    "\n",
    "plt.hist([legit_binaries['SectionsMaxEntropy'], malicious_binaries['SectionsMaxEntropy']], range=[0,8],\n",
    "         normed=True, color=[\"green\", \"red\"],label=[\"legitimate\", \"malicious\"])\n",
    "plt.legend()\n",
    "plt.show()"
   ]
  },
  {
   "cell_type": "markdown",
   "metadata": {},
   "source": [
    "This shows that the malicious files have higher entropy than those of legitimate which is a good start for feature selection.\n",
    "\n",
    "However, the Scikit library has a more efficient way of selecting fetaures to reduce dimentionality "
   ]
  },
  {
   "cell_type": "code",
   "execution_count": 8,
   "metadata": {},
   "outputs": [
    {
     "name": "stdout",
     "output_type": "stream",
     "text": [
      "13 features identified as important:\n",
      "1. feature Characteristics (0.173984)\n",
      "2. feature Machine (0.084511)\n",
      "3. feature ImageBase (0.080936)\n",
      "4. feature DllCharacteristics (0.065589)\n",
      "5. feature ResourcesMaxEntropy (0.063370)\n",
      "6. feature VersionInformationSize (0.058164)\n",
      "7. feature MajorSubsystemVersion (0.057989)\n",
      "8. feature ResourcesMinEntropy (0.056979)\n",
      "9. feature SectionsMaxEntropy (0.049482)\n",
      "10. feature SizeOfOptionalHeader (0.047643)\n",
      "11. feature Subsystem (0.043562)\n",
      "12. feature MajorOperatingSystemVersion (0.030425)\n",
      "13. feature SectionsMinEntropy (0.021421)\n"
     ]
    }
   ],
   "source": [
    "\"\"\"Feature selection using Trees Classifier: we need to check which of the data is important \n",
    "for the classifier. Using an extra trees classifier.It fits randomised decision trees to subsets of our data\"\"\" \n",
    "\n",
    "fsel = ske.ExtraTreesClassifier().fit(X, y)\n",
    "model = SelectFromModel(fsel, prefit=True)\n",
    "X_new = model.transform(X)\n",
    "nb_features = X_new.shape[1]\n",
    "\n",
    "X_train, X_test, y_train, y_test = cross_validation.train_test_split(X_new, y ,test_size=0.2)\n",
    "\n",
    "features = []\n",
    "\n",
    "print('%i features identified as important:' % nb_features)\n",
    "\n",
    "#sort features \n",
    "indices = np.argsort(fsel.feature_importances_)[::-1][:nb_features]\n",
    "for f in range(nb_features):\n",
    "    print(\"%d. feature %s (%f)\" % (f + 1, data.columns[2+indices[f]], fsel.feature_importances_[indices[f]]))\n",
    "\n",
    "# XXX : take care of the feature order\n",
    "for f in sorted(np.argsort(fsel.feature_importances_)[::-1][:nb_features]):\n",
    "    features.append(data.columns[2+f])\n"
   ]
  },
  {
   "cell_type": "markdown",
   "metadata": {},
   "source": [
    "So in this case 13 features were regarded as important. "
   ]
  },
  {
   "cell_type": "markdown",
   "metadata": {},
   "source": [
    "# Classification Selection\n",
    "\n",
    "So to decide model to use a simple option is test a variety using their default parameters and use the one wone with the best success rate. This is judged by the lowest false positive and false negative rate. As mentioned earlier, we will be testing: Decision Tree,\n",
    "Random Forest, \n",
    "Gradient Boosting, Extra Trees Classifier,  \n",
    "Adaboost and\n",
    "GNB.\n"
   ]
  },
  {
   "cell_type": "code",
   "execution_count": 17,
   "metadata": {},
   "outputs": [
    {
     "name": "stdout",
     "output_type": "stream",
     "text": [
      "\n",
      "Now testing algorithms\n",
      "DecisionTree : 99.090909 %\n",
      "RandomForest : 99.424122 %\n",
      "ExtraTreesClassifier : 99.413256 %\n",
      "GradientBoosting : 98.797537 %\n",
      "AdaBoost : 98.649040 %\n",
      "GNB : 70.079681 %\n",
      "\n",
      "Winner algorithm is RandomForest with a 99.424122 % success\n",
      "False positive rate : 0.475477 %\n",
      "False negative rate : 0.811040 %\n"
     ]
    }
   ],
   "source": [
    "\"\"\"We need to create an array of models: need to test each algorithm \n",
    "Algorithm comparison\"\"\"\n",
    "\n",
    "algorithms = {\n",
    "        \"DecisionTree\": tree.DecisionTreeClassifier(max_depth=10),\n",
    "        \"RandomForest\": ske.RandomForestClassifier(n_estimators=50),\n",
    "        \"ExtraTreesClassifier\": ske.ExtraTreesClassifier(n_estimators=50),\n",
    "        \"GradientBoosting\": ske.GradientBoostingClassifier(n_estimators=50),\n",
    "        \"AdaBoost\": ske.AdaBoostClassifier(n_estimators=100),\n",
    "        \"GNB\": GaussianNB()\n",
    "    }\n",
    "\n",
    "results = {}\n",
    "print(\"\\nNow testing algorithms\")\n",
    "for algo in algorithms:\n",
    "    clf = algorithms[algo]\n",
    "    clf.fit(X_train, y_train)\n",
    "    score = clf.score(X_test, y_test)\n",
    "    print(\"%s : %f %%\" % (algo, score*100))\n",
    "    results[algo] = score\n",
    "\n",
    "winner = max(results, key=results.get)\n",
    "print('\\nWinner algorithm is %s with a %f %% success' % (winner, results[winner]*100))\n",
    "\n",
    "\n",
    "\n",
    "# Identify false and true positive rates\n",
    "clf = algorithms[winner]\n",
    "res = clf.predict(X_test)\n",
    "mt = confusion_matrix(y_test, res)\n",
    "print(\"False positive rate : %f %%\" % ((mt[0][1] / float(sum(mt[0])))*100))\n",
    "print('False negative rate : %f %%' % ( (mt[1][0] / float(sum(mt[1]))*100)))"
   ]
  },
  {
   "cell_type": "markdown",
   "metadata": {},
   "source": [
    "So as we can see the RandomForest algorithm worked the best with fp/fn score of: \n",
    "\n",
    "+ False positive rate : 0.475477 %\n",
    "+ False negative rate : 0.811040 %\n",
    "\n",
    "Random forests or random decision forests are an ensemble learning method for classification, regression and other tasks, that operate by constructing a multitude of decision trees at training time and outputting the class that is the mode of the classes (classification) or mean prediction (regression) of the individual trees.\n",
    "\n",
    "<img src=\"random forest.jpg\" width=\"400\">\n",
    "\n",
    "\n",
    "Random decision forests correct for decision trees' habit of overfitting to their training set so the high success rate maybe due to overfitting. Overfitting is \"the production of an analysis that corresponds too closely or exactly to a particular set of data, and may therefore fail to fit additional data or predict future observations reliably\". One way to test this is by testing it on newer malicious PE files another solution would be to retrain the model periodically on new data but this somewhat defeats the point of AI. "
   ]
  },
  {
   "cell_type": "markdown",
   "metadata": {},
   "source": [
    "# Test Classification Selection\n",
    "\n",
    "So to test the algoritms on new data we need to save the object and feature list."
   ]
  },
  {
   "cell_type": "code",
   "execution_count": 11,
   "metadata": {},
   "outputs": [
    {
     "name": "stdout",
     "output_type": "stream",
     "text": [
      "Saving algorithm and feature list in classifier directory...\n",
      "Saved\n"
     ]
    }
   ],
   "source": [
    "# Save the algorithm and the feature list for later predictions\n",
    "print('Saving algorithm and feature list in classifier directory...')\n",
    "joblib.dump(algorithms[winner], 'classifier/classifier.pkl')\n",
    "open('classifier/features.pkl', 'wb').write(pickle.dumps(features))\n",
    "print('Saved')\n"
   ]
  },
  {
   "cell_type": "markdown",
   "metadata": {},
   "source": [
    "Then we need to implement a function to load the feature list, extract the PE featues and then predict whether the file is legitimate or not. To do this I used a checkpe.py function to do so which you can find in the file folder. \n",
    "\n",
    "To run the function: open a command line and enter:\n",
    "\n",
    "```python checkpe.py nameoffile.pe```\n",
    "\n",
    "Here is a snapshot from when I tested it on some legitimate and malicious files. \n",
    "\n",
    "<img src=\"test.png\" width=\"1000\">\n",
    "\n",
    "As you can see it worked well enough on these simple .dll, .sys, .exe files. However, I have to stress this model will only work on PE features. \n"
   ]
  },
  {
   "cell_type": "markdown",
   "metadata": {},
   "source": [
    "# Conclusion\n",
    "\n",
    "Whilst the accuracy is better than some products out there it still falls short and this has to do with the differences between specitivity, specificity, recall and precision: \n",
    "\n",
    "\n",
    "    Sensitivity: Of all labeled positive for containing malware, how many were correctly predicted?\n",
    "    Specificity: Of all labeled negative for containing malware, how many were correctly predicted?\n",
    "    \n",
    "    Recall: Of all the files containing malware, how many did we predict as containing?\n",
    "    Precision: Of all the files containing malware, how many actually had malware?\n",
    "    \n",
    "    False Positive: the proportion of events badly identified as positive over the total number of negatives\n",
    "    False Negative: the proportion of events badly identified as negative over the total number of positives\n",
    "    \n",
    "\n",
    "<img src=\"confusion_matrix_1.png\" width=\"400\">\n",
    "\n",
    "So the problem is that although 99.4% accuracy is high you cannot just consider the malicious over legitimate ratio per the amount of alerts the programm generates. If we look at the confusion matrix below we can see that out of 27610 identified features 92 came out as false negative which is a substantial amount to get through. \n",
    "\n",
    "It may be possible to make a neural net that could predict more efficiently through backpropogation but that would require 10's of 1000's of files to test on.  "
   ]
  },
  {
   "cell_type": "code",
   "execution_count": 23,
   "metadata": {},
   "outputs": [
    {
     "name": "stdout",
     "output_type": "stream",
     "text": [
      "[[19257    92]\n",
      " [   67  8194]]\n"
     ]
    }
   ],
   "source": [
    "from sklearn.metrics import confusion_matrix\n",
    "\n",
    "mt = confusion_matrix(y_test, res)\n",
    "\n",
    "print (mt)"
   ]
  }
 ],
 "metadata": {
  "kernelspec": {
   "display_name": "Python 3",
   "language": "python",
   "name": "python3"
  },
  "language_info": {
   "codemirror_mode": {
    "name": "ipython",
    "version": 3
   },
   "file_extension": ".py",
   "mimetype": "text/x-python",
   "name": "python",
   "nbconvert_exporter": "python",
   "pygments_lexer": "ipython3",
   "version": "3.6.5"
  }
 },
 "nbformat": 4,
 "nbformat_minor": 2
}
